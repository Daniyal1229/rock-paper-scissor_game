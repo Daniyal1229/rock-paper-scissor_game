{
 "cells": [
  {
   "cell_type": "code",
   "execution_count": 1,
   "id": "8ddb8c02",
   "metadata": {},
   "outputs": [
    {
     "name": "stdout",
     "output_type": "stream",
     "text": [
      "Enter your choice [rock,paper,scissor]:\n",
      "rock\n",
      "player chose rock and computer chose scissor\n",
      "\n",
      "rock smashes scissor you won!\n",
      "\n",
      "Do you want to continue? [y/n]:n\n",
      "Thank you for trying my game\n"
     ]
    }
   ],
   "source": [
    "import random\n",
    "i=\"y\"\n",
    "while i==\"y\":\n",
    "    def get_choice():\n",
    "        player_choice =(input(\"Enter your choice [rock,paper,scissor]:\\n\"))\n",
    "        options = [\"rock\", \"paper\", \"scissor\"]\n",
    "        computer_choice = random.choice(options)\n",
    "        choice = {'player': player_choice, 'computer': computer_choice}\n",
    "\n",
    "        return choice\n",
    "\n",
    "    def checkforwin(player, computer):\n",
    "        print(f'player chose {player} and computer chose {computer}')\n",
    "        if player == computer:\n",
    "            return \"its a tie\"\n",
    "        elif player == \"rock\":\n",
    "            if computer == \"scissor\":\n",
    "                return \"rock smashes scissor you won!\"\n",
    "            else:\n",
    "                return \"paper covers rock Oops you lose!\"\n",
    "        elif player == \"paper\":\n",
    "            if computer == \"rock\":\n",
    "                return \"paper covers rock you won!\"\n",
    "            else:\n",
    "                return \"scissor cuts paper Oops you lose!\"\n",
    "        elif player == \"scissor\":\n",
    "            if computer == \"paper\":\n",
    "                return \"scissor cuts paper you won!\"\n",
    "            else:\n",
    "                return \"rock smashes scissor Oops you lose!\"\n",
    "\n",
    "    choice = get_choice()\n",
    "    result = checkforwin(choice[\"player\"], choice[\"computer\"])\n",
    "    print(\"\\n\"+result)\n",
    "    i = input(\"\\nDo you want to continue? [y/n]:\")\n",
    "else:\n",
    "     print(\"Thank you for trying my game\")"
   ]
  },
  {
   "cell_type": "code",
   "execution_count": null,
   "id": "bd5eddae",
   "metadata": {},
   "outputs": [],
   "source": []
  },
  {
   "cell_type": "code",
   "execution_count": null,
   "id": "5506190c",
   "metadata": {},
   "outputs": [],
   "source": []
  }
 ],
 "metadata": {
  "kernelspec": {
   "display_name": "Python 3 (ipykernel)",
   "language": "python",
   "name": "python3"
  },
  "language_info": {
   "codemirror_mode": {
    "name": "ipython",
    "version": 3
   },
   "file_extension": ".py",
   "mimetype": "text/x-python",
   "name": "python",
   "nbconvert_exporter": "python",
   "pygments_lexer": "ipython3",
   "version": "3.9.13"
  },
  "nbTranslate": {
   "displayLangs": [
    "*"
   ],
   "hotkey": "alt-t",
   "langInMainMenu": true,
   "sourceLang": "en",
   "targetLang": "fr",
   "useGoogleTranslate": true
  },
  "toc": {
   "base_numbering": 1,
   "nav_menu": {},
   "number_sections": true,
   "sideBar": true,
   "skip_h1_title": false,
   "title_cell": "Table of Contents",
   "title_sidebar": "Contents",
   "toc_cell": false,
   "toc_position": {},
   "toc_section_display": true,
   "toc_window_display": false
  },
  "varInspector": {
   "cols": {
    "lenName": 16,
    "lenType": 16,
    "lenVar": 40
   },
   "kernels_config": {
    "python": {
     "delete_cmd_postfix": "",
     "delete_cmd_prefix": "del ",
     "library": "var_list.py",
     "varRefreshCmd": "print(var_dic_list())"
    },
    "r": {
     "delete_cmd_postfix": ") ",
     "delete_cmd_prefix": "rm(",
     "library": "var_list.r",
     "varRefreshCmd": "cat(var_dic_list()) "
    }
   },
   "types_to_exclude": [
    "module",
    "function",
    "builtin_function_or_method",
    "instance",
    "_Feature"
   ],
   "window_display": false
  }
 },
 "nbformat": 4,
 "nbformat_minor": 5
}
